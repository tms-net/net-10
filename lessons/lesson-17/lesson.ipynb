{
 "cells": [
  {
   "cell_type": "code",
   "execution_count": null,
   "metadata": {
    "dotnet_interactive": {
     "language": "csharp"
    },
    "polyglot_notebook": {
     "kernelName": "csharp"
    },
    "vscode": {
     "languageId": "polyglot-notebook"
    }
   },
   "outputs": [],
   "source": []
  },
  {
   "attachments": {},
   "cell_type": "markdown",
   "metadata": {},
   "source": [
    "# Многопоточность\n",
    "\n",
    "Мы рассмотрели базовые принципы и типичные проблемы параллельного выполнения программ. Основной проблемой является синхронизация потоков. В этом уроке мы рассмотрим примитивы синхронизации.\n",
    "\n",
    "## Примитивы синхронизации\n",
    "\n",
    "Синхронизация потоков - это согласованное выполнение потоков. Синхронизация потоков необходима для обеспечения предскауемого результата выполнения операций. Например, если один поток пишет в файл, то другой поток не должен читать из этого файла. Для синхронизации потоков используются примитивы синхронизации.\n",
    "\n",
    "Одни из самых простых примитивов синхронизации - это мьютексы. Мьютекс - это объект, который может находиться в двух состояниях: заблокированном и разблокированном. Поток может заблокировать мьютекс, если он свободен. Если мьютекс уже заблокирован, то поток, который пытается его заблокировать, будет ожидать, пока мьютекс не будет разблокирован. Мьютексы используются для синхронизации доступа к ресурсам, которые не могут быть использованы несколькими потоками одновременно. Они похожи на `Monitor` в C#, однако мьютексы могут быть использованы для синхронизации потоков в разных процессах."
   ]
  },
  {
   "cell_type": "code",
   "execution_count": null,
   "metadata": {
    "dotnet_interactive": {
     "language": "csharp"
    },
    "polyglot_notebook": {
     "kernelName": "csharp"
    },
    "vscode": {
     "languageId": "polyglot-notebook"
    }
   },
   "outputs": [],
   "source": [
    "using System;\n",
    "using System.Threading;\n",
    "\n",
    "static void Main()\n",
    "{\n",
    "    // Naming a Mutex makes it available computer-wide. Use a name that's\n",
    "    // unique to your company and application (e.g., include your URL).\n",
    "\n",
    "    using (var mutex = new Mutex(false, \"MyApp.Multithreading\"))\n",
    "    {\n",
    "        // Wait a few seconds if contended, in case another instance\n",
    "        // of the program is still in the process of shutting down.\n",
    "\n",
    "        if (!mutex.WaitOne(TimeSpan.FromSeconds(3), false))\n",
    "        {\n",
    "            Console.WriteLine(\"Another app instance is running. Bye!\");\n",
    "            return;\n",
    "        }\n",
    "        \n",
    "        RunProgram();\n",
    "    }\n",
    "}\n",
    "\n",
    "static void RunProgram()\n",
    "{\n",
    "    Console.WriteLine(\"Running. Press Enter to exit\");\n",
    "    Console.ReadLine();\n",
    "}"
   ]
  },
  {
   "attachments": {},
   "cell_type": "markdown",
   "metadata": {},
   "source": [
    "Чтобы Мьютекс был доступен во всей системе, его нужно назвать. Используйте имя, которое уникально для вашей компании и приложения (например, включите в него ваш URL).\n",
    "\n",
    "Другой похожей примитивой синхронизации является семафор. Семафор работает как \"ночной клуб\": у него есть определенная вместимость, и если все места заняты, то новые посетители должны ждать, пока кто-то не покинет клуб. Семафоры используются для ограничения количества потоков, которые могут выполнять некоторую операцию одновременно. Например, если у вас есть 4 ядра процессора, то вы можете создать семафор с вместимостью 4, и только 4 потока смогут выполнять некоторую операцию одновременно.\n",
    "\n",
    "Семафор с вместимостью 1 работает так же как `Mutex`, за исключением того, что семафор может быть разблокирован любым потоком, а не только тем, который его заблокировал."
   ]
  },
  {
   "cell_type": "code",
   "execution_count": 3,
   "metadata": {
    "dotnet_interactive": {
     "language": "csharp"
    },
    "polyglot_notebook": {
     "kernelName": "csharp"
    },
    "vscode": {
     "languageId": "polyglot-notebook"
    }
   },
   "outputs": [
    {
     "name": "stdout",
     "output_type": "stream",
     "text": [
      "1 wants to enter\n",
      "4 wants to enter\n",
      "1 is in!\n",
      "3 wants to enter\n",
      "3 is in!\n",
      "4 is in!\n",
      "5 wants to enter\n",
      "2 wants to enter\n"
     ]
    }
   ],
   "source": [
    "using System;\n",
    "using System.Threading;\n",
    "\n",
    "static SemaphoreSlim _sem = new SemaphoreSlim(3);    // Capacity of 3\n",
    "\n",
    "static void Main()\n",
    "{\n",
    "    var threads = new Thread[5];\n",
    "    for (int i = 0; i < 5; i++)\n",
    "    {\n",
    "        threads[i] = new Thread(Enter);\n",
    "        threads[i].Start(i + 1);\n",
    "    }\n",
    "}\n",
    "\n",
    "static void Enter(object id)\n",
    "{\n",
    "    Console.WriteLine(id + \" wants to enter\");\n",
    "    _sem.Wait();\n",
    "    Console.WriteLine(id + \" is in!\");           // Only three threads\n",
    "    Thread.Sleep(1000 * (int)id);               // can be here at\n",
    "    Console.WriteLine(id + \" is leaving\");     // a time.\n",
    "    _sem.Release();\n",
    "}\n",
    "\n",
    "Main();"
   ]
  },
  {
   "attachments": {},
   "cell_type": "markdown",
   "metadata": {},
   "source": [
    "## Неизменяемые объекты\n",
    "\n",
    "Другим важным инструментом многопоточного программирования являются неизменяемые объекты. Неизменяемый объект - это объект, который не может быть изменен после создания. Неизменяемые объекты очень полезны, потому что они не нуждаются в синхронизации. Неизменяемые объекты могут быть использованы несколькими потоками одновременно без каких-либо проблем.\n",
    "\n",
    "В `dotnet` есть несколько типов, которые являются неизменяемыми. Например, все значимые типы, делегаты и тип `string` являются неизменяемыми. Неизменяемость - это отличительная черта функционального программирования, где вместо изменения объектов создаются новые объекты.\n"
   ]
  },
  {
   "cell_type": "code",
   "execution_count": 3,
   "metadata": {
    "dotnet_interactive": {
     "language": "csharp"
    },
    "polyglot_notebook": {
     "kernelName": "csharp"
    },
    "vscode": {
     "languageId": "polyglot-notebook"
    }
   },
   "outputs": [
    {
     "name": "stdout",
     "output_type": "stream",
     "text": [
      "hello\n",
      "HELLO\n"
     ]
    }
   ],
   "source": [
    "using System;\n",
    "using System.Threading;\n",
    "\n",
    "public static void Main()\n",
    "{            \n",
    "    // how to fix?\n",
    "            \n",
    "    var hello = new char [] {'H', 'e', 'l', 'l', 'o'};\n",
    "    var thread = new Thread(() => Console.WriteLine((hello.ToUpper())));\n",
    "    thread.Start();\n",
    "    Console.WriteLine(hello.ToLower());\n",
    "    thread.Join();\n",
    "}\n",
    "\n",
    "private static char[] ToUpper(this char[] obj)\n",
    "{\n",
    "    for (int i = 0; i < obj.Length; i++)\n",
    "    {\n",
    "        obj[i] = char.ToUpper(obj[i]);\n",
    "    }\n",
    "\n",
    "    return obj;\n",
    "}\n",
    "\n",
    "private static char[] ToLower(this char[] obj)\n",
    "{\n",
    "    for (int i = 0; i < obj.Length; i++)\n",
    "    {\n",
    "        obj[i] = char.ToLower(obj[i]);\n",
    "    }\n",
    "\n",
    "    return obj;\n",
    "}\n",
    "\n",
    "Main();"
   ]
  },
  {
   "attachments": {},
   "cell_type": "markdown",
   "metadata": {},
   "source": [
    "В `dotnet` вы сможете найти разные примитивы синхронизации, одной из отличительных особенностей будет являться скорость работы и затратность ресурсов. Наиболее эффективныит будут примитивы в постфиксом `Slim`, например `SemaphoreSlim` или `MutexSlim`. Они используют меньше ресурсов, чем их старшие братья, но они не могут быть использованы для синхронизации между процессами.\n",
    "\n",
    "## Утлизация потоков\n",
    "\n",
    "Потоки - это дорогой ресурс, поэтому важно использовать их эффективно. Если вы создаете много потоков, то можете столкнуться с проблемой, когда ваша программа будет тратить больше времени на переключение контекста между потоками, чем на полезную работу. Поэтому важно использовать потоки только тогда, когда это необходимо."
   ]
  },
  {
   "cell_type": "code",
   "execution_count": 4,
   "metadata": {
    "dotnet_interactive": {
     "language": "csharp"
    },
    "polyglot_notebook": {
     "kernelName": "csharp"
    },
    "vscode": {
     "languageId": "polyglot-notebook"
    }
   },
   "outputs": [
    {
     "ename": "Error",
     "evalue": "(14,37): error CS0103: The name 'Process' does not exist in the current context",
     "output_type": "error",
     "traceback": [
      "(14,37): error CS0103: The name 'Process' does not exist in the current context"
     ]
    }
   ],
   "source": [
    "using System;\n",
    "using System.Threading;\n",
    "using System.Diagnostics;\n",
    "\n",
    "static void Main(string[] args)\n",
    "{          \n",
    "    Console.WriteLine(\"Hello world!\");\n",
    "    int i = 1;\n",
    "    while(true)\n",
    "    {\n",
    "        new Thread(obj =>\n",
    "        {\n",
    "            Thread.Sleep(500);\n",
    "        }).Start();\n",
    "\n",
    "        Console.WriteLine($\"{i++}: {Process.GetCurrentProcess().PagedMemorySize64 / 1024 / 1024}MB\");\n",
    "    }\n",
    "}"
   ]
  },
  {
   "attachments": {},
   "cell_type": "markdown",
   "metadata": {},
   "source": [
    "В данном примере мы сэмулировали ситуацию, когда операция, которую необходиом выполнить параллельно, занимает 500 мс. В таком случае, если мы будем создавать потоки для каждой операции, то будем использовать больше ресурсов, чем это необохдимо.\n",
    "\n",
    "## Пул потоков\n",
    "\n",
    "Для того, чтобы избежать создания большого количества потоков, в `dotnet` есть пул потоков. Пул потоков - это набор потоков, которые могут быть использованы для выполнения задач. Пул потоков создается при запуске приложения и уничтожается при его завершении. Пул потоков автоматически управляет количеством потоков, которые он содержит, и может быть настроен для выполнения задач с различными приоритетами."
   ]
  },
  {
   "cell_type": "code",
   "execution_count": null,
   "metadata": {
    "dotnet_interactive": {
     "language": "csharp"
    },
    "polyglot_notebook": {
     "kernelName": "csharp"
    },
    "vscode": {
     "languageId": "polyglot-notebook"
    }
   },
   "outputs": [],
   "source": [
    "using System;\n",
    "using System.Threading;\n",
    "using System.Diagnostics;\n",
    "\n",
    "static void Main(string[] args)\n",
    "{          \n",
    "    Console.WriteLine(\"Hello world!\");\n",
    "    int i = 1;\n",
    "    while(true)\n",
    "    {\n",
    "        ThreadPool.QueueUserWorkItem(obj =>\n",
    "        {\n",
    "            Thread.Sleep(500);\n",
    "        });\n",
    "\n",
    "        Console.WriteLine($\"{i++}: {Process.GetCurrentProcess().PagedMemorySize64 / 1024 / 1024}MB\");\n",
    "    }\n",
    "}"
   ]
  }
 ],
 "metadata": {
  "language_info": {
   "name": "python"
  },
  "orig_nbformat": 4
 },
 "nbformat": 4,
 "nbformat_minor": 2
}
