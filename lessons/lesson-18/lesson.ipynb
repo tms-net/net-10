{
 "cells": [
  {
   "cell_type": "code",
   "execution_count": null,
   "metadata": {
    "dotnet_interactive": {
     "language": "csharp"
    },
    "polyglot_notebook": {
     "kernelName": "csharp"
    },
    "vscode": {
     "languageId": "polyglot-notebook"
    }
   },
   "outputs": [],
   "source": []
  },
  {
   "attachments": {},
   "cell_type": "markdown",
   "metadata": {},
   "source": [
    "# Асинхронность\n",
    "\n",
    "Понятия асинхронности и многопоточности часто путаются. При этом, если многопоточность - это средство для параллельного выполнения кода, то асинхронность - это средство для организации неблокирующего взаимодействия между разными частями программы. Причем, асинхронность может быть реализована как с помощью многопоточности, так и без нее.\n"
   ]
  },
  {
   "cell_type": "code",
   "execution_count": null,
   "metadata": {
    "vscode": {
     "languageId": "polyglot-notebook"
    }
   },
   "outputs": [],
   "source": []
  }
 ],
 "metadata": {
  "language_info": {
   "name": "python"
  },
  "orig_nbformat": 4
 },
 "nbformat": 4,
 "nbformat_minor": 2
}
