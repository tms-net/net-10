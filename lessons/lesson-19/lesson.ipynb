{
 "cells": [
  {
   "cell_type": "code",
   "execution_count": null,
   "metadata": {
    "dotnet_interactive": {
     "language": "csharp"
    },
    "polyglot_notebook": {
     "kernelName": "csharp"
    },
    "vscode": {
     "languageId": "polyglot-notebook"
    }
   },
   "outputs": [],
   "source": []
  },
  {
   "attachments": {},
   "cell_type": "markdown",
   "metadata": {},
   "source": [
    "# Асинхронность\n",
    "\n",
    "Понятия асинхронности и многопоточности часто путаются. При этом, если многопоточность - это средство для параллельного выполнения кода, то асинхронность - это средство для организации неблокирующего взаимодействия между разными частями программы. Причем, асинхронность может быть реализована как с помощью многопоточности, так и без нее.\n",
    "\n",
    "Асинхронность еще можно назвать парадигмой программирования, в которой разработчик должен обеспечивать неблокирующее взаимодействие между разными частями программы. При этом количество потоков, их утилизация и т.д. - это уже вопросы для соответствующих фреймворков.\n",
    "\n",
    "Реализация инструментов и фреймворков такого рода - это сложная задача, поэтому всегда найдутся какие-то нюансы, которые необходимо учитывать и понимать как они работают.\n",
    "\n",
    "Так какие-же средства предоставляет нам dotnet для реализации асинхронности?"
   ]
  },
  {
   "cell_type": "code",
   "execution_count": null,
   "metadata": {
    "dotnet_interactive": {
     "language": "csharp"
    },
    "polyglot_notebook": {
     "kernelName": "csharp"
    },
    "vscode": {
     "languageId": "polyglot-notebook"
    }
   },
   "outputs": [],
   "source": [
    "using System.Threading;\n",
    "using System.Threading.Tasks;\n",
    "using System.Diagnostics;\n",
    "\n",
    "private static int counter;\n",
    "private const int OperationDuration = 2000;\n",
    "\n",
    "private static int MaxThreads\n",
    "{\n",
    "    get\n",
    "    {\n",
    "        ThreadPool.GetMaxThreads(out var workerThreads, out _);\n",
    "        return workerThreads;\n",
    "    }\n",
    "}\n",
    "private static int AvailableThreads\n",
    "{\n",
    "    get\n",
    "    {\n",
    "        ThreadPool.GetAvailableThreads(out var workerThreads, out _);\n",
    "        return workerThreads;\n",
    "    }\n",
    "}\n",
    "\n",
    "static void Main()\n",
    "{\n",
    "    ThreadPool.SetMaxThreads(10, 10);\n",
    "    Console.WriteLine($\"Starting with thread capacity {MaxThreads}\");\n",
    "    var timer = new Timer(TimerTick);\n",
    "\n",
    "    Console.WriteLine(\"Performing operation...\");\n",
    "    var sw = new Stopwatch();\n",
    "    sw.Start();\n",
    "    DoOperationAsync().Wait();\n",
    "    sw.Stop();\n",
    "    Console.WriteLine($\"Single operation completes in {sw.ElapsedMilliseconds} ms.\");\n",
    "\n",
    "    timer.Change(0, 1000);\n",
    "    Thread.Sleep(10000);\n",
    "    Console.WriteLine($\"Operations completed: {counter}\");\n",
    "}\n",
    "\n",
    "private static void TimerTick(object state)\n",
    "{\n",
    "    for (int i = 0; i < 100; i++)\n",
    "    {\n",
    "        DoOperationAsync();\n",
    "    }\n",
    "    Console.WriteLine($\"Added another 100 operations. Threads available {AvailableThreads}\");\n",
    "}\n",
    "\n",
    "private static async Task DoOperationAsync()\n",
    "{\n",
    "    await Task.Yield();\n",
    "    Thread.Sleep(OperationDuration);\n",
    "    //await Task.Delay(OperationDuration);\n",
    "    Interlocked.Increment(ref counter);\n",
    "}\n",
    "\n",
    "Main()"
   ]
  },
  {
   "attachments": {},
   "cell_type": "markdown",
   "metadata": {},
   "source": [
    "# Async I/O"
   ]
  },
  {
   "cell_type": "code",
   "execution_count": null,
   "metadata": {
    "dotnet_interactive": {
     "language": "csharp"
    },
    "polyglot_notebook": {
     "kernelName": "csharp"
    },
    "vscode": {
     "languageId": "polyglot-notebook"
    }
   },
   "outputs": [],
   "source": [
    "using System;\n",
    "using System.IO;\n",
    "using System.Linq;\n",
    "using System.Text;\n",
    "using System.Threading.Tasks;\n",
    "\n",
    "private const int BUFFER_SIZE = 4096;\n",
    "\n",
    "private static void Main(string[] args)\n",
    "{\n",
    "    Task t = ProcessAsynchronousIO();\n",
    "    t.GetAwaiter().GetResult();\n",
    "}\n",
    "\n",
    "private static async Task ProcessAsynchronousIO()\n",
    "{\n",
    "    using (var stream = new FileStream(\"test1.txt\", FileMode.Create,\n",
    "        FileAccess.ReadWrite, FileShare.None, BUFFER_SIZE))\n",
    "    {\n",
    "        Console.WriteLine(\"1. Uses I/O Threads: {0}\", stream.IsAsync);\n",
    "\n",
    "        byte[] buffer = Encoding.UTF8.GetBytes(CreateFileContent());\n",
    "        Task t = stream.WriteAsync(buffer, 0, buffer.Length);\n",
    "        await t;\n",
    "    }\n",
    "\n",
    "    using (var stream = new FileStream(\"test2.txt\", FileMode.Create, FileAccess.ReadWrite,\n",
    "        FileShare.None, BUFFER_SIZE, FileOptions.Asynchronous))\n",
    "    {\n",
    "        Console.WriteLine(\"2. Uses I/O Threads: {0}\", stream.IsAsync);\n",
    "\n",
    "        byte[] buffer = Encoding.UTF8.GetBytes(CreateFileContent());\n",
    "        Task t = stream.WriteAsync(buffer, 0, buffer.Length);\n",
    "        await t;\n",
    "    }\n",
    "\n",
    "    using (FileStream stream = File.Create(\"test3.txt\", BUFFER_SIZE, FileOptions.Asynchronous))\n",
    "    {\n",
    "        using (var sw = new StreamWriter(stream))\n",
    "        {\n",
    "            Console.WriteLine(\"3. Uses I/O Threads: {0}\", stream.IsAsync);\n",
    "            await sw.WriteAsync(CreateFileContent());\n",
    "        }\n",
    "    }\n",
    "\n",
    "    using (var sw = new StreamWriter(\"test4.txt\", true))\n",
    "    {\n",
    "        Console.WriteLine(\"4. Uses I/O Threads: {0}\", ((FileStream)sw.BaseStream).IsAsync);\n",
    "        await sw.WriteAsync(CreateFileContent());\n",
    "    }\n",
    "\n",
    "    Console.WriteLine(\"Starting parsing files in parallel\");\n",
    "\n",
    "    var readTasks = new Task<long>[4];\n",
    "    for (int i = 0; i < 4; i++)\n",
    "    {\n",
    "        readTasks[i] = SumFileContent(string.Format(\"test{0}.txt\", i + 1));\n",
    "    }\n",
    "\n",
    "    long[] sums = await Task.WhenAll(readTasks);\n",
    "\n",
    "    Console.WriteLine(\"Sum in all files: {0}\", sums.Sum());\n",
    "\n",
    "    Console.WriteLine(\"Deleting files...\");\n",
    "\n",
    "    var deleteTasks = new Task[4];\n",
    "    for (int i = 0; i < 4; i++)\n",
    "    {\n",
    "        string fileName = string.Format(\"test{0}.txt\", i + 1);\n",
    "        deleteTasks[i] = SimulateAsynchronousDelete(fileName);\n",
    "    }\n",
    "\n",
    "    await Task.WhenAll(deleteTasks);\n",
    "\n",
    "    Console.WriteLine(\"Deleting complete.\");\n",
    "}\n",
    "\n",
    "private static string CreateFileContent()\n",
    "{\n",
    "    var sb = new StringBuilder();\n",
    "    for (int i = 0; i < 100000; i++)\n",
    "    {\n",
    "        sb.AppendFormat(\"{0}\", new Random(i).Next(0, 99999));\n",
    "        sb.AppendLine();\n",
    "    }\n",
    "    return sb.ToString();\n",
    "}\n",
    "\n",
    "private static async Task<long> SumFileContent(string fileName)\n",
    "{\n",
    "    using (var stream = new FileStream(fileName, FileMode.Open,\n",
    "        FileAccess.Read, FileShare.None, BUFFER_SIZE, FileOptions.Asynchronous))\n",
    "    using (var sr = new StreamReader(stream))\n",
    "    {\n",
    "        long sum = 0;\n",
    "        while (sr.Peek() > -1)\n",
    "        {\n",
    "            string line = await sr.ReadLineAsync();\n",
    "            sum += long.Parse(line);\n",
    "        }\n",
    "\n",
    "        return sum;\n",
    "    }\n",
    "}\n",
    "\n",
    "private static Task SimulateAsynchronousDelete(string fileName)\n",
    "{\n",
    "    return Task.Run(() => File.Delete(fileName));\n",
    "}"
   ]
  }
 ],
 "metadata": {
  "language_info": {
   "name": "python"
  },
  "orig_nbformat": 4
 },
 "nbformat": 4,
 "nbformat_minor": 2
}
